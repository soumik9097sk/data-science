{
  "cells": [
    {
      "cell_type": "markdown",
      "metadata": {
        "id": "view-in-github",
        "colab_type": "text"
      },
      "source": [
        "<a href=\"https://colab.research.google.com/github/soumik9097sk/data-science/blob/master/coding_gradient_descent.ipynb\" target=\"_parent\"><img src=\"https://colab.research.google.com/assets/colab-badge.svg\" alt=\"Open In Colab\"/></a>"
      ]
    },
    {
      "cell_type": "code",
      "execution_count": null,
      "id": "650232e8-ee9e-46b4-b562-34c0779b788b",
      "metadata": {
        "id": "650232e8-ee9e-46b4-b562-34c0779b788b"
      },
      "outputs": [],
      "source": [
        "import numpy as np"
      ]
    },
    {
      "cell_type": "code",
      "execution_count": null,
      "id": "925a9957-1dfc-4fec-9255-4e33195c51ac",
      "metadata": {
        "id": "925a9957-1dfc-4fec-9255-4e33195c51ac"
      },
      "outputs": [],
      "source": [
        "def activation(w,b,x, kind = \"sigmoid\"):\n",
        "    if kind == \"sigmoid\":\n",
        "        return 1/(1-np.exp(-(w*x+b)))\n",
        "    else:\n",
        "        pass"
      ]
    },
    {
      "cell_type": "code",
      "execution_count": null,
      "id": "b6e8b96c-bb25-4ac3-aa9e-285d6e09684c",
      "metadata": {
        "id": "b6e8b96c-bb25-4ac3-aa9e-285d6e09684c"
      },
      "outputs": [],
      "source": [
        "def gradient_of_weight(w,b,x,y):\n",
        "    sigmoid = activation(w,b,x,kind=\"sigmoid\")\n",
        "    return (sigmoid - y) * sigmoid * (1 - sigmoid) * x\n",
        "\n",
        "def gradient_of_bias(w,b,x,y):\n",
        "    sigmoid = activation(w,b,x,kind=\"sigmoid\")\n",
        "    return (sigmoid - y) * sigmoid * (1 - sigmoid)"
      ]
    },
    {
      "cell_type": "code",
      "execution_count": null,
      "id": "6063ce9b-d358-4cb4-acca-3b633bdca13a",
      "metadata": {
        "id": "6063ce9b-d358-4cb4-acca-3b633bdca13a"
      },
      "outputs": [],
      "source": [
        "def do_gradient_descent(X,Y):\n",
        "    w, b, lr, epochs = 1, 1, 1, 100000\n",
        "    for epoch in range(epochs):\n",
        "        dw, db = 0, 0\n",
        "        for x,y in zip(X,Y):\n",
        "            dw += gradient_of_weight(w,b,x,y)\n",
        "            db += gradient_of_bias(w,b,x,y)\n",
        "        w = w - lr*dw\n",
        "        b = b - lr*db\n",
        "    return w,b"
      ]
    },
    {
      "cell_type": "code",
      "execution_count": null,
      "id": "d1dab126-4bf2-4c72-aed8-1745370772bd",
      "metadata": {
        "id": "d1dab126-4bf2-4c72-aed8-1745370772bd"
      },
      "outputs": [],
      "source": [
        "X = [1, 2]\n",
        "Y = [1, 2]"
      ]
    },
    {
      "cell_type": "code",
      "execution_count": null,
      "id": "f6b67565-aa82-4870-862d-a919fb96b431",
      "metadata": {
        "id": "f6b67565-aa82-4870-862d-a919fb96b431"
      },
      "outputs": [],
      "source": [
        "w, b = do_gradient_descent(X,Y)"
      ]
    },
    {
      "cell_type": "code",
      "execution_count": null,
      "id": "07916adb-ee77-4b76-9074-a9348e687502",
      "metadata": {
        "id": "07916adb-ee77-4b76-9074-a9348e687502",
        "outputId": "968b9e1f-e8f1-4dbd-dda0-4fa168a24484"
      },
      "outputs": [
        {
          "name": "stdout",
          "output_type": "stream",
          "text": [
            "573.354241971515\n",
            "953.8760967240166\n"
          ]
        }
      ],
      "source": [
        "for x in X:\n",
        "    print(w*x+b)"
      ]
    },
    {
      "cell_type": "code",
      "execution_count": null,
      "id": "65d2a527-f857-4538-a575-2346ef798f67",
      "metadata": {
        "id": "65d2a527-f857-4538-a575-2346ef798f67"
      },
      "outputs": [],
      "source": []
    }
  ],
  "metadata": {
    "kernelspec": {
      "display_name": "Python 3 (ipykernel)",
      "language": "python",
      "name": "python3"
    },
    "language_info": {
      "codemirror_mode": {
        "name": "ipython",
        "version": 3
      },
      "file_extension": ".py",
      "mimetype": "text/x-python",
      "name": "python",
      "nbconvert_exporter": "python",
      "pygments_lexer": "ipython3",
      "version": "3.10.9"
    },
    "colab": {
      "provenance": [],
      "include_colab_link": true
    }
  },
  "nbformat": 4,
  "nbformat_minor": 5
}